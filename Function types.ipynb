{
 "cells": [
  {
   "cell_type": "code",
   "execution_count": 1,
   "id": "cb96d197",
   "metadata": {},
   "outputs": [],
   "source": [
    "#No input\n",
    "def greeting():\n",
    "    print(\"Hi there\")"
   ]
  },
  {
   "cell_type": "code",
   "execution_count": 2,
   "id": "cc1ef90f",
   "metadata": {},
   "outputs": [
    {
     "name": "stdout",
     "output_type": "stream",
     "text": [
      "Hi there\n"
     ]
    }
   ],
   "source": [
    "greeting()"
   ]
  },
  {
   "cell_type": "code",
   "execution_count": 3,
   "id": "ba8721f4",
   "metadata": {},
   "outputs": [],
   "source": [
    "#Taking input but diesn't return output\n",
    "def greet(name):\n",
    "    print(\"Hi \" + name + \"!\")"
   ]
  },
  {
   "cell_type": "code",
   "execution_count": 4,
   "id": "1e07c685",
   "metadata": {},
   "outputs": [
    {
     "name": "stdout",
     "output_type": "stream",
     "text": [
      "Hi Menna!\n"
     ]
    }
   ],
   "source": [
    "greet(\"Menna\")"
   ]
  },
  {
   "cell_type": "code",
   "execution_count": 5,
   "id": "ca54900e",
   "metadata": {},
   "outputs": [
    {
     "name": "stdout",
     "output_type": "stream",
     "text": [
      "Hi Menna!\n"
     ]
    }
   ],
   "source": [
    "greet('Menna')"
   ]
  },
  {
   "cell_type": "code",
   "execution_count": 6,
   "id": "130adf63",
   "metadata": {},
   "outputs": [],
   "source": [
    "#Taking input and Returning output\n",
    "def square(x):\n",
    "    return x*x"
   ]
  },
  {
   "cell_type": "code",
   "execution_count": 7,
   "id": "40549408",
   "metadata": {},
   "outputs": [],
   "source": [
    "result=square(5)"
   ]
  },
  {
   "cell_type": "code",
   "execution_count": 8,
   "id": "f8ee2fb5",
   "metadata": {},
   "outputs": [
    {
     "name": "stdout",
     "output_type": "stream",
     "text": [
      "25\n"
     ]
    }
   ],
   "source": [
    "print(result)"
   ]
  },
  {
   "cell_type": "code",
   "execution_count": 9,
   "id": "0f5f082d",
   "metadata": {},
   "outputs": [],
   "source": [
    "AnotherValue=square(result)"
   ]
  },
  {
   "cell_type": "code",
   "execution_count": 10,
   "id": "f667249d",
   "metadata": {},
   "outputs": [
    {
     "name": "stdout",
     "output_type": "stream",
     "text": [
      "625\n"
     ]
    }
   ],
   "source": [
    "print(AnotherValue)"
   ]
  },
  {
   "cell_type": "code",
   "execution_count": 11,
   "id": "e761726d",
   "metadata": {},
   "outputs": [],
   "source": [
    "#Taking 2 inputs and returning one output\n",
    "def MulSquare(x,y):\n",
    "    Square1 = x*x\n",
    "    Square2 = y*y \n",
    "    return Square1 + Square2"
   ]
  },
  {
   "cell_type": "code",
   "execution_count": 12,
   "id": "efb885e4",
   "metadata": {},
   "outputs": [],
   "source": [
    "Sum=MulSquare(2,4)"
   ]
  },
  {
   "cell_type": "code",
   "execution_count": 13,
   "id": "337044f2",
   "metadata": {},
   "outputs": [
    {
     "name": "stdout",
     "output_type": "stream",
     "text": [
      "20\n"
     ]
    }
   ],
   "source": [
    "print(Sum)"
   ]
  },
  {
   "cell_type": "code",
   "execution_count": null,
   "id": "926f9220",
   "metadata": {},
   "outputs": [],
   "source": []
  },
  {
   "cell_type": "code",
   "execution_count": null,
   "id": "8bca6b22",
   "metadata": {},
   "outputs": [],
   "source": []
  },
  {
   "cell_type": "code",
   "execution_count": null,
   "id": "2298362c",
   "metadata": {},
   "outputs": [],
   "source": []
  },
  {
   "cell_type": "code",
   "execution_count": 14,
   "id": "632deec0",
   "metadata": {},
   "outputs": [],
   "source": [
    "def is_it_raining():\n",
    "    raining=input(\"Is it raining today?\")\n",
    "    return raining"
   ]
  },
  {
   "cell_type": "code",
   "execution_count": 15,
   "id": "c87069e1",
   "metadata": {},
   "outputs": [
    {
     "name": "stdout",
     "output_type": "stream",
     "text": [
      "Is it raining today?yes\n"
     ]
    }
   ],
   "source": [
    "monday_rain=is_it_raining()"
   ]
  },
  {
   "cell_type": "code",
   "execution_count": 16,
   "id": "abe5ba56",
   "metadata": {},
   "outputs": [
    {
     "name": "stdout",
     "output_type": "stream",
     "text": [
      "yes\n"
     ]
    }
   ],
   "source": [
    "print(monday_rain)"
   ]
  },
  {
   "cell_type": "code",
   "execution_count": null,
   "id": "a7527ca5",
   "metadata": {},
   "outputs": [],
   "source": []
  }
 ],
 "metadata": {
  "kernelspec": {
   "display_name": "Python 3 (ipykernel)",
   "language": "python",
   "name": "python3"
  },
  "language_info": {
   "codemirror_mode": {
    "name": "ipython",
    "version": 3
   },
   "file_extension": ".py",
   "mimetype": "text/x-python",
   "name": "python",
   "nbconvert_exporter": "python",
   "pygments_lexer": "ipython3",
   "version": "3.8.10"
  }
 },
 "nbformat": 4,
 "nbformat_minor": 5
}
