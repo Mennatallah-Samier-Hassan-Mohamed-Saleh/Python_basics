{
 "cells": [
  {
   "cell_type": "code",
   "execution_count": 1,
   "id": "52ff83b5",
   "metadata": {},
   "outputs": [
    {
     "name": "stdout",
     "output_type": "stream",
     "text": [
      "5\n"
     ]
    }
   ],
   "source": [
    "vowels=['a','e','i','o','u']\n",
    "length=len(vowels)\n",
    "print(length)"
   ]
  },
  {
   "cell_type": "code",
   "execution_count": 2,
   "id": "b6ae126d",
   "metadata": {},
   "outputs": [
    {
     "name": "stdout",
     "output_type": "stream",
     "text": [
      "a\n",
      "e\n",
      "i\n",
      "o\n",
      "u\n"
     ]
    }
   ],
   "source": [
    "vowels=['a','e','i','o','u']\n",
    "i=0\n",
    "while i < len(vowels):\n",
    "    print(vowels[i])\n",
    "    i = i+1"
   ]
  },
  {
   "cell_type": "code",
   "execution_count": null,
   "id": "e0d2fbc4",
   "metadata": {},
   "outputs": [],
   "source": []
  }
 ],
 "metadata": {
  "kernelspec": {
   "display_name": "Python 3 (ipykernel)",
   "language": "python",
   "name": "python3"
  },
  "language_info": {
   "codemirror_mode": {
    "name": "ipython",
    "version": 3
   },
   "file_extension": ".py",
   "mimetype": "text/x-python",
   "name": "python",
   "nbconvert_exporter": "python",
   "pygments_lexer": "ipython3",
   "version": "3.8.10"
  }
 },
 "nbformat": 4,
 "nbformat_minor": 5
}
