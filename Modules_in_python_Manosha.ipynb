{
 "cells": [
  {
   "cell_type": "code",
   "execution_count": 3,
   "id": "188dc90a",
   "metadata": {},
   "outputs": [],
   "source": [
    "import calendar"
   ]
  },
  {
   "cell_type": "code",
   "execution_count": 5,
   "id": "5e30a215",
   "metadata": {},
   "outputs": [],
   "source": [
    "cal = calendar.month(2019,7)"
   ]
  },
  {
   "cell_type": "code",
   "execution_count": 7,
   "id": "e350721a",
   "metadata": {},
   "outputs": [
    {
     "name": "stdout",
     "output_type": "stream",
     "text": [
      "     July 2019\n",
      "Mo Tu We Th Fr Sa Su\n",
      " 1  2  3  4  5  6  7\n",
      " 8  9 10 11 12 13 14\n",
      "15 16 17 18 19 20 21\n",
      "22 23 24 25 26 27 28\n",
      "29 30 31\n",
      "\n"
     ]
    }
   ],
   "source": [
    "print(cal)"
   ]
  },
  {
   "cell_type": "code",
   "execution_count": 8,
   "id": "a59b83e7",
   "metadata": {},
   "outputs": [],
   "source": [
    "cal2 = calendar.month(2022,10)"
   ]
  },
  {
   "cell_type": "code",
   "execution_count": 9,
   "id": "4cb6f8ef",
   "metadata": {},
   "outputs": [
    {
     "name": "stdout",
     "output_type": "stream",
     "text": [
      "    October 2022\n",
      "Mo Tu We Th Fr Sa Su\n",
      "                1  2\n",
      " 3  4  5  6  7  8  9\n",
      "10 11 12 13 14 15 16\n",
      "17 18 19 20 21 22 23\n",
      "24 25 26 27 28 29 30\n",
      "31\n",
      "\n"
     ]
    }
   ],
   "source": [
    "print(cal2)"
   ]
  },
  {
   "cell_type": "code",
   "execution_count": 10,
   "id": "4a94dfcc",
   "metadata": {},
   "outputs": [],
   "source": [
    "import math"
   ]
  },
  {
   "cell_type": "code",
   "execution_count": 11,
   "id": "0f252c60",
   "metadata": {},
   "outputs": [],
   "source": [
    "result=math.sqrt(49)"
   ]
  },
  {
   "cell_type": "code",
   "execution_count": 12,
   "id": "c1f817d9",
   "metadata": {},
   "outputs": [
    {
     "name": "stdout",
     "output_type": "stream",
     "text": [
      "7.0\n"
     ]
    }
   ],
   "source": [
    "print(result)"
   ]
  },
  {
   "cell_type": "code",
   "execution_count": 13,
   "id": "500dfa34",
   "metadata": {},
   "outputs": [],
   "source": [
    "import random"
   ]
  },
  {
   "cell_type": "code",
   "execution_count": 14,
   "id": "67274fe7",
   "metadata": {},
   "outputs": [],
   "source": [
    "number = random.randint(1,100)"
   ]
  },
  {
   "cell_type": "code",
   "execution_count": 15,
   "id": "1ca400c7",
   "metadata": {},
   "outputs": [
    {
     "name": "stdout",
     "output_type": "stream",
     "text": [
      "78\n"
     ]
    }
   ],
   "source": [
    "print(number)"
   ]
  },
  {
   "cell_type": "code",
   "execution_count": 16,
   "id": "787c403c",
   "metadata": {},
   "outputs": [],
   "source": [
    "Movies =[\"Alaa_Eldin\" , \"The intern\" ,\" Suits 7\" ,\" Avengers\" , \"Finding Ola\", \"The crown\", \"Arabic Movie\"]"
   ]
  },
  {
   "cell_type": "code",
   "execution_count": 17,
   "id": "15676481",
   "metadata": {},
   "outputs": [],
   "source": [
    "watch = random.choice(Movies)"
   ]
  },
  {
   "cell_type": "code",
   "execution_count": 18,
   "id": "ad295f0e",
   "metadata": {},
   "outputs": [
    {
     "name": "stdout",
     "output_type": "stream",
     "text": [
      "Arabic Movie\n"
     ]
    }
   ],
   "source": [
    "print(watch)"
   ]
  },
  {
   "cell_type": "code",
   "execution_count": 20,
   "id": "4249082e",
   "metadata": {},
   "outputs": [],
   "source": [
    "deck = [\"Ace\",\"One\",\"Two\",\"Three\",\"Four\",\"Five\",\"Six\",\"Seven\",\"Eight\",\"Nine\",\"Ten\",\"Jack\",\"Queen\",\"King\"]"
   ]
  },
  {
   "cell_type": "code",
   "execution_count": 21,
   "id": "c8479af4",
   "metadata": {},
   "outputs": [
    {
     "name": "stdout",
     "output_type": "stream",
     "text": [
      "['Ace', 'One', 'Two', 'Three', 'Four', 'Five', 'Six', 'Seven', 'Eight', 'Nine', 'Ten', 'Jack', 'Queen', 'King']\n"
     ]
    }
   ],
   "source": [
    "print(deck)"
   ]
  },
  {
   "cell_type": "code",
   "execution_count": 22,
   "id": "63cf4292",
   "metadata": {},
   "outputs": [],
   "source": [
    "random.shuffle(deck)"
   ]
  },
  {
   "cell_type": "code",
   "execution_count": 23,
   "id": "d1bb32c0",
   "metadata": {},
   "outputs": [
    {
     "name": "stdout",
     "output_type": "stream",
     "text": [
      "['Ace', 'Jack', 'Nine', 'Ten', 'Eight', 'King', 'Seven', 'Four', 'Five', 'Two', 'Six', 'One', 'Queen', 'Three']\n"
     ]
    }
   ],
   "source": [
    "print(deck)"
   ]
  },
  {
   "cell_type": "code",
   "execution_count": 24,
   "id": "9a57b100",
   "metadata": {},
   "outputs": [],
   "source": [
    "test = math.pow(2,4)"
   ]
  },
  {
   "cell_type": "code",
   "execution_count": 25,
   "id": "81b48c25",
   "metadata": {},
   "outputs": [
    {
     "name": "stdout",
     "output_type": "stream",
     "text": [
      "16.0\n"
     ]
    }
   ],
   "source": [
    "print(test)"
   ]
  },
  {
   "cell_type": "code",
   "execution_count": null,
   "id": "9d2ffbbe",
   "metadata": {},
   "outputs": [],
   "source": []
  }
 ],
 "metadata": {
  "kernelspec": {
   "display_name": "Python 3 (ipykernel)",
   "language": "python",
   "name": "python3"
  },
  "language_info": {
   "codemirror_mode": {
    "name": "ipython",
    "version": 3
   },
   "file_extension": ".py",
   "mimetype": "text/x-python",
   "name": "python",
   "nbconvert_exporter": "python",
   "pygments_lexer": "ipython3",
   "version": "3.8.10"
  }
 },
 "nbformat": 4,
 "nbformat_minor": 5
}
