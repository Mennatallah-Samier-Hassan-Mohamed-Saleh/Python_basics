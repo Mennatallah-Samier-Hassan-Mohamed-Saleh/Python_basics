{
 "cells": [
  {
   "cell_type": "code",
   "execution_count": 1,
   "id": "3420739d",
   "metadata": {},
   "outputs": [],
   "source": [
    "def greeting():\n",
    "    print(\"Hi there\")"
   ]
  },
  {
   "cell_type": "code",
   "execution_count": 3,
   "id": "a4f10acc",
   "metadata": {},
   "outputs": [
    {
     "name": "stdout",
     "output_type": "stream",
     "text": [
      "Hi there\n"
     ]
    }
   ],
   "source": [
    "greeting()"
   ]
  },
  {
   "cell_type": "code",
   "execution_count": 4,
   "id": "ea94503b",
   "metadata": {},
   "outputs": [],
   "source": [
    "def greet(name):\n",
    "    print(\"Hi \" + name + \"!\")"
   ]
  },
  {
   "cell_type": "code",
   "execution_count": 5,
   "id": "7ef344b8",
   "metadata": {},
   "outputs": [
    {
     "name": "stdout",
     "output_type": "stream",
     "text": [
      "Hi Menna!\n"
     ]
    }
   ],
   "source": [
    "greet(\"Menna\")"
   ]
  },
  {
   "cell_type": "code",
   "execution_count": 6,
   "id": "70292c41",
   "metadata": {},
   "outputs": [
    {
     "name": "stdout",
     "output_type": "stream",
     "text": [
      "Hi Menna!\n"
     ]
    }
   ],
   "source": [
    "greet('Menna')"
   ]
  },
  {
   "cell_type": "code",
   "execution_count": 7,
   "id": "1eacd0e7",
   "metadata": {},
   "outputs": [],
   "source": [
    "def square(x):\n",
    "    return x*x"
   ]
  },
  {
   "cell_type": "code",
   "execution_count": 8,
   "id": "fd08104c",
   "metadata": {},
   "outputs": [],
   "source": [
    "result=square(5)"
   ]
  },
  {
   "cell_type": "code",
   "execution_count": 9,
   "id": "cb9f307e",
   "metadata": {},
   "outputs": [
    {
     "name": "stdout",
     "output_type": "stream",
     "text": [
      "25\n"
     ]
    }
   ],
   "source": [
    "print(result)"
   ]
  },
  {
   "cell_type": "code",
   "execution_count": 10,
   "id": "3f8075ee",
   "metadata": {},
   "outputs": [],
   "source": [
    "AnotherValue=square(result)"
   ]
  },
  {
   "cell_type": "code",
   "execution_count": 11,
   "id": "ef6ca7a4",
   "metadata": {},
   "outputs": [
    {
     "name": "stdout",
     "output_type": "stream",
     "text": [
      "625\n"
     ]
    }
   ],
   "source": [
    "print(AnotherValue)"
   ]
  },
  {
   "cell_type": "code",
   "execution_count": 12,
   "id": "6d1e284f",
   "metadata": {},
   "outputs": [],
   "source": [
    "def MulSquare(x,y):\n",
    "    Square1 = x*x\n",
    "    Square2 = y*y \n",
    "    return Square1 + Square2"
   ]
  },
  {
   "cell_type": "code",
   "execution_count": 13,
   "id": "72ba08df",
   "metadata": {},
   "outputs": [],
   "source": [
    "Sum=MulSquare(2,4)"
   ]
  },
  {
   "cell_type": "code",
   "execution_count": 14,
   "id": "62d533c7",
   "metadata": {},
   "outputs": [
    {
     "name": "stdout",
     "output_type": "stream",
     "text": [
      "20\n"
     ]
    }
   ],
   "source": [
    "print(Sum)"
   ]
  },
  {
   "cell_type": "code",
   "execution_count": 15,
   "id": "b477442e",
   "metadata": {},
   "outputs": [],
   "source": [
    "def is_it_raining():\n",
    "    raining=input(\"Is it raining today ?\")\n",
    "    return raining"
   ]
  },
  {
   "cell_type": "code",
   "execution_count": 17,
   "id": "0368418f",
   "metadata": {},
   "outputs": [
    {
     "name": "stdout",
     "output_type": "stream",
     "text": [
      "Is it raining today ?yes\n"
     ]
    }
   ],
   "source": [
    "monday_rain=is_it_raining()"
   ]
  },
  {
   "cell_type": "code",
   "execution_count": 18,
   "id": "c32109e5",
   "metadata": {},
   "outputs": [
    {
     "name": "stdout",
     "output_type": "stream",
     "text": [
      "yes\n"
     ]
    }
   ],
   "source": [
    "print(monday_rain)"
   ]
  },
  {
   "cell_type": "code",
   "execution_count": null,
   "id": "f6db0ece",
   "metadata": {},
   "outputs": [],
   "source": [
    "Tuesday_rain=is_it_raining()"
   ]
  },
  {
   "cell_type": "code",
   "execution_count": null,
   "id": "120336c5",
   "metadata": {},
   "outputs": [],
   "source": [
    "print()"
   ]
  },
  {
   "cell_type": "code",
   "execution_count": null,
   "id": "fea542a6",
   "metadata": {},
   "outputs": [],
   "source": []
  }
 ],
 "metadata": {
  "kernelspec": {
   "display_name": "Python 3 (ipykernel)",
   "language": "python",
   "name": "python3"
  },
  "language_info": {
   "codemirror_mode": {
    "name": "ipython",
    "version": 3
   },
   "file_extension": ".py",
   "mimetype": "text/x-python",
   "name": "python",
   "nbconvert_exporter": "python",
   "pygments_lexer": "ipython3",
   "version": "3.8.10"
  }
 },
 "nbformat": 4,
 "nbformat_minor": 5
}
