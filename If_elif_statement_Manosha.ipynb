{
 "cells": [
  {
   "cell_type": "code",
   "execution_count": 4,
   "id": "02c0b11e",
   "metadata": {},
   "outputs": [
    {
     "name": "stdout",
     "output_type": "stream",
     "text": [
      "Is it raining (yes/no)?yes\n",
      "Do you have Umbrella (yes/no)?yes\n",
      "Don't forget your ubmrella\n"
     ]
    }
   ],
   "source": [
    "raining=input(\"Is it raining (yes/no)?\")\n",
    "ubmrella=input(\"Do you have Umbrella (yes/no)?\")\n",
    "if raining == \"yes\" and ubmrella == \"yes\":\n",
    "    print(\"Don't forget your ubmrella\")\n",
    "elif raining== \"yes\" and ubmrella == \"no\":\n",
    "    print(\"Wear a Jacket with a hood\")\n",
    "    "
   ]
  },
  {
   "cell_type": "code",
   "execution_count": 5,
   "id": "39b96c7d",
   "metadata": {},
   "outputs": [
    {
     "name": "stdout",
     "output_type": "stream",
     "text": [
      "Enter a number5\n",
      "x is less than 6.\n"
     ]
    }
   ],
   "source": [
    "x=input(\"Enter a number\")\n",
    "x=float(x)\n",
    "if x < 2:\n",
    "    print(\"x is less than 2.\")\n",
    "elif x < 6:\n",
    "    print(\"x is less than 6.\")\n",
    "elif x < 8:\n",
    "    print(\"x is less than 8.\")\n",
    "elif x < 10:\n",
    "    print(\"x is less than 10.\")  "
   ]
  },
  {
   "cell_type": "code",
   "execution_count": 6,
   "id": "4ac2a5e0",
   "metadata": {},
   "outputs": [
    {
     "name": "stdout",
     "output_type": "stream",
     "text": [
      "1.0\n"
     ]
    }
   ],
   "source": [
    "# changing int to float will not alternate the numerical value\n",
    "x =1\n",
    "print(float(x))"
   ]
  },
  {
   "cell_type": "code",
   "execution_count": 7,
   "id": "b06c82e4",
   "metadata": {},
   "outputs": [
    {
     "name": "stdout",
     "output_type": "stream",
     "text": [
      "1\n"
     ]
    }
   ],
   "source": [
    "# changing float to int will alternate the numerical value\n",
    "y =1.5\n",
    "print(int(y))"
   ]
  },
  {
   "cell_type": "code",
   "execution_count": 11,
   "id": "d9145945",
   "metadata": {},
   "outputs": [
    {
     "name": "stdout",
     "output_type": "stream",
     "text": [
      "Enter a number1.5\n",
      "x is less than 2.\n",
      "x is less than 6.\n",
      "x is less than 8.\n",
      "x is less than 10.\n"
     ]
    }
   ],
   "source": [
    "x=input(\"Enter a number\")\n",
    "x=float(x)\n",
    "if x < 2:\n",
    "    print(\"x is less than 2.\")\n",
    "if x < 6:\n",
    "    print(\"x is less than 6.\")\n",
    "if x < 8:\n",
    "    print(\"x is less than 8.\")\n",
    "if x < 10:\n",
    "    print(\"x is less than 10.\")  "
   ]
  },
  {
   "cell_type": "code",
   "execution_count": 16,
   "id": "784ea574",
   "metadata": {},
   "outputs": [
    {
     "name": "stdout",
     "output_type": "stream",
     "text": [
      "The number is integer\n",
      "5\n"
     ]
    }
   ],
   "source": [
    "def type_funtion(z):\n",
    "    if type(z) == int :\n",
    "        print(\"The number is integer\")\n",
    "        return z\n",
    "    elif type(z) == float :\n",
    "        print(\"The number is float\")\n",
    "        return z\n",
    "    else:\n",
    "        print(\"The Number is neither integer nor float\")\n",
    "        return z\n",
    "\n",
    "m = type_funtion(5)\n",
    "print(m)\n",
    "        "
   ]
  },
  {
   "cell_type": "code",
   "execution_count": 18,
   "id": "81e5d8de",
   "metadata": {},
   "outputs": [
    {
     "name": "stdout",
     "output_type": "stream",
     "text": [
      "5\n"
     ]
    }
   ],
   "source": [
    "# if input is -4 absolute value is -4 * -1 which is 4\n",
    "# if input is zer0 absolute value is zero\n",
    "# if input is 23.5 absolute value is 23.5\n",
    "def abs_val(num):\n",
    "    if num < 0 :\n",
    "        return -num\n",
    "    elif num == 0 :\n",
    "        return 0\n",
    "    else:\n",
    "        return num\n",
    "m = abs_val(-5)\n",
    "print(m)\n",
    "        "
   ]
  },
  {
   "cell_type": "code",
   "execution_count": 19,
   "id": "aea45c88",
   "metadata": {},
   "outputs": [
    {
     "name": "stdout",
     "output_type": "stream",
     "text": [
      "0\n"
     ]
    }
   ],
   "source": [
    "n = abs_val(0)\n",
    "print(n)"
   ]
  },
  {
   "cell_type": "code",
   "execution_count": 20,
   "id": "aac1eb1f",
   "metadata": {},
   "outputs": [
    {
     "name": "stdout",
     "output_type": "stream",
     "text": [
      "73.8\n"
     ]
    }
   ],
   "source": [
    "q = abs_val(73.8)\n",
    "print(q)"
   ]
  },
  {
   "cell_type": "code",
   "execution_count": null,
   "id": "fd9888db",
   "metadata": {},
   "outputs": [],
   "source": []
  }
 ],
 "metadata": {
  "kernelspec": {
   "display_name": "Python 3 (ipykernel)",
   "language": "python",
   "name": "python3"
  },
  "language_info": {
   "codemirror_mode": {
    "name": "ipython",
    "version": 3
   },
   "file_extension": ".py",
   "mimetype": "text/x-python",
   "name": "python",
   "nbconvert_exporter": "python",
   "pygments_lexer": "ipython3",
   "version": "3.8.10"
  }
 },
 "nbformat": 4,
 "nbformat_minor": 5
}
