{
 "cells": [
  {
   "cell_type": "code",
   "execution_count": 3,
   "id": "bf721bc6",
   "metadata": {},
   "outputs": [
    {
     "name": "stdout",
     "output_type": "stream",
     "text": [
      "Is it raining today ?no\n"
     ]
    }
   ],
   "source": [
    "raining=input(\"Is it raining today ?\")\n",
    "if raining == \"yes\" :\n",
    "    print(\"Get an umbrella\")"
   ]
  },
  {
   "cell_type": "code",
   "execution_count": 4,
   "id": "915eb4c0",
   "metadata": {},
   "outputs": [
    {
     "name": "stdout",
     "output_type": "stream",
     "text": [
      "no\n"
     ]
    }
   ],
   "source": [
    "print(raining)"
   ]
  },
  {
   "cell_type": "code",
   "execution_count": null,
   "id": "2449893d",
   "metadata": {},
   "outputs": [],
   "source": []
  }
 ],
 "metadata": {
  "kernelspec": {
   "display_name": "Python 3 (ipykernel)",
   "language": "python",
   "name": "python3"
  },
  "language_info": {
   "codemirror_mode": {
    "name": "ipython",
    "version": 3
   },
   "file_extension": ".py",
   "mimetype": "text/x-python",
   "name": "python",
   "nbconvert_exporter": "python",
   "pygments_lexer": "ipython3",
   "version": "3.8.10"
  }
 },
 "nbformat": 4,
 "nbformat_minor": 5
}
