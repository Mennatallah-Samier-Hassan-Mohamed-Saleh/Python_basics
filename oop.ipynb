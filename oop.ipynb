{
 "cells": [
  {
   "cell_type": "code",
   "execution_count": 1,
   "id": "8c265841",
   "metadata": {},
   "outputs": [],
   "source": [
    "class Dog():\n",
    "    def __init__(self,name,age):\n",
    "        self.name=name\n",
    "        self.age=age\n",
    "    def bark(self):\n",
    "        print(\"Woof Woof\")"
   ]
  },
  {
   "cell_type": "code",
   "execution_count": 4,
   "id": "bb80b4ce",
   "metadata": {},
   "outputs": [],
   "source": [
    "# Creating an instance of the dog class fido with name Fido and age 2 years old\n",
    "fido=Dog(\"Fido\",2)"
   ]
  },
  {
   "cell_type": "code",
   "execution_count": 5,
   "id": "145076c7",
   "metadata": {},
   "outputs": [
    {
     "name": "stdout",
     "output_type": "stream",
     "text": [
      "Woof Woof\n"
     ]
    }
   ],
   "source": [
    "fido.bark()"
   ]
  },
  {
   "cell_type": "code",
   "execution_count": 6,
   "id": "accbd92a",
   "metadata": {},
   "outputs": [
    {
     "name": "stdout",
     "output_type": "stream",
     "text": [
      "Fido\n"
     ]
    }
   ],
   "source": [
    "print(fido.name)"
   ]
  },
  {
   "cell_type": "code",
   "execution_count": 7,
   "id": "d496c2c3",
   "metadata": {},
   "outputs": [
    {
     "name": "stdout",
     "output_type": "stream",
     "text": [
      "2\n"
     ]
    }
   ],
   "source": [
    "print(fido.age)"
   ]
  },
  {
   "cell_type": "code",
   "execution_count": 8,
   "id": "5abef497",
   "metadata": {},
   "outputs": [],
   "source": [
    "#fido became one more year old\n",
    "fido.age += 1"
   ]
  },
  {
   "cell_type": "code",
   "execution_count": 9,
   "id": "2e962ab5",
   "metadata": {},
   "outputs": [
    {
     "name": "stdout",
     "output_type": "stream",
     "text": [
      "3\n"
     ]
    }
   ],
   "source": [
    "print(fido.age)"
   ]
  },
  {
   "cell_type": "code",
   "execution_count": null,
   "id": "9718ceae",
   "metadata": {},
   "outputs": [],
   "source": []
  }
 ],
 "metadata": {
  "kernelspec": {
   "display_name": "Python 3 (ipykernel)",
   "language": "python",
   "name": "python3"
  },
  "language_info": {
   "codemirror_mode": {
    "name": "ipython",
    "version": 3
   },
   "file_extension": ".py",
   "mimetype": "text/x-python",
   "name": "python",
   "nbconvert_exporter": "python",
   "pygments_lexer": "ipython3",
   "version": "3.8.10"
  }
 },
 "nbformat": 4,
 "nbformat_minor": 5
}
