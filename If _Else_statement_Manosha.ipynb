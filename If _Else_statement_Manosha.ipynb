{
 "cells": [
  {
   "cell_type": "code",
   "execution_count": 2,
   "id": "614f746c",
   "metadata": {},
   "outputs": [],
   "source": [
    "def Minimum(x,y):\n",
    "    if x < y:\n",
    "        return x\n",
    "    else:\n",
    "        return y"
   ]
  },
  {
   "cell_type": "code",
   "execution_count": 11,
   "id": "0175aec1",
   "metadata": {},
   "outputs": [
    {
     "name": "stdout",
     "output_type": "stream",
     "text": [
      "2\n"
     ]
    }
   ],
   "source": [
    "# test the minimum between 2 and 5\n",
    "result=Minimum(2,5)\n",
    "print (result)"
   ]
  },
  {
   "cell_type": "code",
   "execution_count": 13,
   "id": "75dfa387",
   "metadata": {},
   "outputs": [
    {
     "name": "stdout",
     "output_type": "stream",
     "text": [
      "-5\n"
     ]
    }
   ],
   "source": [
    "# test the minimum between -2 and -5\n",
    "result2=Minimum(-2,-5)\n",
    "print (result2)"
   ]
  },
  {
   "cell_type": "code",
   "execution_count": 14,
   "id": "71131df6",
   "metadata": {},
   "outputs": [
    {
     "name": "stdout",
     "output_type": "stream",
     "text": [
      "7\n"
     ]
    }
   ],
   "source": [
    "# test the minimum between 7 and 7\n",
    "result3=Minimum(7,7)\n",
    "print (result3)"
   ]
  },
  {
   "cell_type": "code",
   "execution_count": 15,
   "id": "d70d3cbd",
   "metadata": {},
   "outputs": [
    {
     "name": "stdout",
     "output_type": "stream",
     "text": [
      "2\n"
     ]
    }
   ],
   "source": [
    "# test the minimum between int and float\n",
    "result4=Minimum(2,2.5)\n",
    "print (result4)"
   ]
  },
  {
   "cell_type": "code",
   "execution_count": null,
   "id": "1fd5e90c",
   "metadata": {},
   "outputs": [],
   "source": []
  }
 ],
 "metadata": {
  "kernelspec": {
   "display_name": "Python 3 (ipykernel)",
   "language": "python",
   "name": "python3"
  },
  "language_info": {
   "codemirror_mode": {
    "name": "ipython",
    "version": 3
   },
   "file_extension": ".py",
   "mimetype": "text/x-python",
   "name": "python",
   "nbconvert_exporter": "python",
   "pygments_lexer": "ipython3",
   "version": "3.8.10"
  }
 },
 "nbformat": 4,
 "nbformat_minor": 5
}
