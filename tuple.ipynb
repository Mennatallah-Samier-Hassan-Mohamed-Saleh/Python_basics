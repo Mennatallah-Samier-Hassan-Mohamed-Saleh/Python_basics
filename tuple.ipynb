{
 "cells": [
  {
   "cell_type": "code",
   "execution_count": 1,
   "id": "9a01fdc3",
   "metadata": {},
   "outputs": [],
   "source": [
    "child1_birth=(\"Julia\",\"Childersn's hosital\",\"Stanford\",\"California\",\"USA\",\"07/29/1996\",\"9:42\")"
   ]
  },
  {
   "cell_type": "code",
   "execution_count": 2,
   "id": "b735b30d",
   "metadata": {},
   "outputs": [],
   "source": [
    "child2_birth=(\"Austia\",\"Washignton hospital\",\"Fermont\",\"California\",\"USA\",\"07/28/2009\",\"16:25\")"
   ]
  },
  {
   "cell_type": "code",
   "execution_count": 3,
   "id": "3e6c9fcb",
   "metadata": {},
   "outputs": [
    {
     "data": {
      "text/plain": [
       "tuple"
      ]
     },
     "execution_count": 3,
     "metadata": {},
     "output_type": "execute_result"
    }
   ],
   "source": [
    "type(child1_birth)"
   ]
  },
  {
   "cell_type": "code",
   "execution_count": 4,
   "id": "9a103c0c",
   "metadata": {},
   "outputs": [
    {
     "data": {
      "text/plain": [
       "tuple"
      ]
     },
     "execution_count": 4,
     "metadata": {},
     "output_type": "execute_result"
    }
   ],
   "source": [
    "type(child2_birth)"
   ]
  },
  {
   "cell_type": "code",
   "execution_count": 5,
   "id": "2549bdea",
   "metadata": {},
   "outputs": [
    {
     "name": "stdout",
     "output_type": "stream",
     "text": [
      "('Julia', \"Childersn's hosital\", 'Stanford', 'California', 'USA', '07/29/1996', '9:42')\n"
     ]
    }
   ],
   "source": [
    "print(child1_birth)"
   ]
  },
  {
   "cell_type": "code",
   "execution_count": 6,
   "id": "b4188ada",
   "metadata": {},
   "outputs": [
    {
     "name": "stdout",
     "output_type": "stream",
     "text": [
      "('Austia', 'Washignton hospital', 'Fermont', 'California', 'USA', '07/28/2009', '16:25')\n"
     ]
    }
   ],
   "source": [
    "print(child2_birth)"
   ]
  },
  {
   "cell_type": "code",
   "execution_count": 7,
   "id": "e56a78d3",
   "metadata": {},
   "outputs": [
    {
     "name": "stdout",
     "output_type": "stream",
     "text": [
      "Julia\n"
     ]
    }
   ],
   "source": [
    "print(child1_birth[0])"
   ]
  },
  {
   "cell_type": "code",
   "execution_count": 8,
   "id": "dc0d3d98",
   "metadata": {},
   "outputs": [
    {
     "name": "stdout",
     "output_type": "stream",
     "text": [
      "16:25\n"
     ]
    }
   ],
   "source": [
    "# second child's original time of birth\n",
    "print(child2_birth[6])"
   ]
  },
  {
   "cell_type": "code",
   "execution_count": 10,
   "id": "e0228b67",
   "metadata": {},
   "outputs": [
    {
     "ename": "TypeError",
     "evalue": "'tuple' object does not support item assignment",
     "output_type": "error",
     "traceback": [
      "\u001b[0;31m---------------------------------------------------------------------------\u001b[0m",
      "\u001b[0;31mTypeError\u001b[0m                                 Traceback (most recent call last)",
      "Cell \u001b[0;32mIn [10], line 2\u001b[0m\n\u001b[1;32m      1\u001b[0m \u001b[38;5;66;03m# attempt to chnage the second child's date of birth\u001b[39;00m\n\u001b[0;32m----> 2\u001b[0m \u001b[43mchild1_birth\u001b[49m\u001b[43m[\u001b[49m\u001b[38;5;241;43m6\u001b[39;49m\u001b[43m]\u001b[49m \u001b[38;5;241m=\u001b[39m\u001b[38;5;124m\"\u001b[39m\u001b[38;5;124m17.25\u001b[39m\u001b[38;5;124m\"\u001b[39m\n",
      "\u001b[0;31mTypeError\u001b[0m: 'tuple' object does not support item assignment"
     ]
    }
   ],
   "source": [
    "# attempt to chnage the second child's date of birth\n",
    "child1_birth[6] =\"17.25\""
   ]
  },
  {
   "cell_type": "code",
   "execution_count": null,
   "id": "b232e7c9",
   "metadata": {},
   "outputs": [],
   "source": []
  }
 ],
 "metadata": {
  "kernelspec": {
   "display_name": "Python 3 (ipykernel)",
   "language": "python",
   "name": "python3"
  },
  "language_info": {
   "codemirror_mode": {
    "name": "ipython",
    "version": 3
   },
   "file_extension": ".py",
   "mimetype": "text/x-python",
   "name": "python",
   "nbconvert_exporter": "python",
   "pygments_lexer": "ipython3",
   "version": "3.8.10"
  }
 },
 "nbformat": 4,
 "nbformat_minor": 5
}
