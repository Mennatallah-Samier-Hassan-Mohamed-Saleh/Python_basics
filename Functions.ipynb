{
 "cells": [
  {
   "cell_type": "code",
   "execution_count": 4,
   "id": "8803f66a",
   "metadata": {},
   "outputs": [
    {
     "name": "stdout",
     "output_type": "stream",
     "text": [
      "Please enetr your nameMenna\n",
      "Please enter time, Morning, Evening, AfternoonMorning\n",
      "Good,Morning Menna!\n"
     ]
    }
   ],
   "source": [
    "def greet():\n",
    "    name=input(\"Please enetr your name\")\n",
    "    time=input(\"Please enter time, Morning, Evening, Afternoon\")\n",
    "    print(\"Good\" + \",\" + time + \" \" + name + \"!\")\n",
    "greet()"
   ]
  },
  {
   "cell_type": "code",
   "execution_count": null,
   "id": "c372cd62",
   "metadata": {},
   "outputs": [],
   "source": []
  }
 ],
 "metadata": {
  "kernelspec": {
   "display_name": "Python 3 (ipykernel)",
   "language": "python",
   "name": "python3"
  },
  "language_info": {
   "codemirror_mode": {
    "name": "ipython",
    "version": 3
   },
   "file_extension": ".py",
   "mimetype": "text/x-python",
   "name": "python",
   "nbconvert_exporter": "python",
   "pygments_lexer": "ipython3",
   "version": "3.8.10"
  }
 },
 "nbformat": 4,
 "nbformat_minor": 5
}
